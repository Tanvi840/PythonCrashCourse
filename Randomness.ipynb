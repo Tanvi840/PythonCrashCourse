{
 "cells": [
  {
   "cell_type": "code",
   "execution_count": 2,
   "metadata": {},
   "outputs": [
    {
     "data": {
      "text/plain": [
       "[0.9142470137747707,\n",
       " 0.6888846137288923,\n",
       " 0.006909746956309415,\n",
       " 0.5309048401034031]"
      ]
     },
     "execution_count": 2,
     "metadata": {},
     "output_type": "execute_result"
    }
   ],
   "source": [
    "import random\n",
    "\n",
    "four_uniform_random = [random.random() for _ in range(4)]\n",
    "four_uniform_random"
   ]
  },
  {
   "cell_type": "code",
   "execution_count": 2,
   "metadata": {},
   "outputs": [
    {
     "name": "stdout",
     "output_type": "stream",
     "text": [
      "0.57140259469\n",
      "0.57140259469\n"
     ]
    }
   ],
   "source": [
    "random.seed(10)\n",
    "print random.random()\n",
    "random.seed(10)\n",
    "print random.random()"
   ]
  },
  {
   "cell_type": "code",
   "execution_count": 5,
   "metadata": {},
   "outputs": [
    {
     "name": "stdout",
     "output_type": "stream",
     "text": [
      "6\n",
      "12\n",
      "0.52066935964\n"
     ]
    }
   ],
   "source": [
    "print random.randrange(10)\n",
    "print random.randrange(11,20)\n",
    "print random.random()"
   ]
  },
  {
   "cell_type": "code",
   "execution_count": 3,
   "metadata": {},
   "outputs": [
    {
     "name": "stdout",
     "output_type": "stream",
     "text": [
      "[4, 8, 0, 1, 2, 7, 5, 3, 6, 9]\n"
     ]
    }
   ],
   "source": [
    "up_to_ten = range(10)\n",
    "random.shuffle(up_to_ten)\n",
    "print up_to_ten"
   ]
  },
  {
   "cell_type": "code",
   "execution_count": 4,
   "metadata": {},
   "outputs": [
    {
     "data": {
      "text/plain": [
       "'Sam'"
      ]
     },
     "execution_count": 4,
     "metadata": {},
     "output_type": "execute_result"
    }
   ],
   "source": [
    "# randomly pick one element from a list\n",
    "my_best_friend = random.choice([\"Sam\",\"Alice\",\"Bob\"])\n",
    "my_best_friend"
   ]
  },
  {
   "cell_type": "code",
   "execution_count": 6,
   "metadata": {},
   "outputs": [
    {
     "data": {
      "text/plain": [
       "[56, 44, 18, 25, 53, 14]"
      ]
     },
     "execution_count": 6,
     "metadata": {},
     "output_type": "execute_result"
    }
   ],
   "source": [
    "# randomly choose a sample of elements without replacement \n",
    "lottery_numbers = range(60)\n",
    "winning_numbers = random.sample(lottery_numbers,6)\n",
    "winning_numbers"
   ]
  },
  {
   "cell_type": "code",
   "execution_count": 7,
   "metadata": {},
   "outputs": [
    {
     "data": {
      "text/plain": [
       "[59, 4, 26, 30]"
      ]
     },
     "execution_count": 7,
     "metadata": {},
     "output_type": "execute_result"
    }
   ],
   "source": [
    "# choose a sample of elements with replacement \n",
    "for_with_replacement = [random.choice(lottery_numbers) for _ in range(4)]\n",
    "for_with_replacement"
   ]
  }
 ],
 "metadata": {
  "kernelspec": {
   "display_name": "Python 2",
   "language": "python",
   "name": "python2"
  },
  "language_info": {
   "codemirror_mode": {
    "name": "ipython",
    "version": 2
   },
   "file_extension": ".py",
   "mimetype": "text/x-python",
   "name": "python",
   "nbconvert_exporter": "python",
   "pygments_lexer": "ipython2",
   "version": "2.7.18"
  }
 },
 "nbformat": 4,
 "nbformat_minor": 2
}
