{
 "cells": [
  {
   "cell_type": "code",
   "execution_count": 1,
   "metadata": {},
   "outputs": [],
   "source": [
    "class Set:\n",
    "     #Self refers to the particular Set object being used\n",
    "     #member functions\n",
    "    \n",
    "    def __init__(self, values=None):\n",
    "        \"\"\"This is the constructor. \n",
    "        It gets called when you create a new Set.\"\"\"\n",
    "        self.dict = {}\n",
    "        if values is not None:\n",
    "            for value in values:\n",
    "                self.add(value)\n",
    "    \n",
    "    def add(self,value):\n",
    "        self.dict[value]=True\n",
    "        \n",
    "    def __repr__(self):\n",
    "        \"\"\"this is the string representation of a Set object        \n",
    "        if you type it at the Python prompt or pass it to str()\"\"\"\n",
    "        return \"Set:\" + str(self.dict.keys())\n",
    "    \n",
    "    def contains(self, value):\n",
    "        return value in self.dict\n",
    "    \n",
    "    def remove(self, value):\n",
    "        del self.dict[value]"
   ]
  },
  {
   "cell_type": "code",
   "execution_count": 2,
   "metadata": {},
   "outputs": [
    {
     "name": "stdout",
     "output_type": "stream",
     "text": [
      "True\n",
      "False\n"
     ]
    }
   ],
   "source": [
    "s = Set([1,2,3])\n",
    "s.add(4)\n",
    "print s.contains(4)\n",
    "s.remove(3)\n",
    "print s.contains(3)"
   ]
  }
 ],
 "metadata": {
  "kernelspec": {
   "display_name": "Python 2",
   "language": "python",
   "name": "python2"
  },
  "language_info": {
   "codemirror_mode": {
    "name": "ipython",
    "version": 2
   },
   "file_extension": ".py",
   "mimetype": "text/x-python",
   "name": "python",
   "nbconvert_exporter": "python",
   "pygments_lexer": "ipython2",
   "version": "2.7.18"
  }
 },
 "nbformat": 4,
 "nbformat_minor": 2
}
