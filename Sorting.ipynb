{
 "cells": [
  {
   "cell_type": "code",
   "execution_count": 1,
   "metadata": {},
   "outputs": [
    {
     "name": "stdout",
     "output_type": "stream",
     "text": [
      "[4, 3, 1, 2] [1, 2, 3, 4]\n"
     ]
    }
   ],
   "source": [
    "#sorted function returns a new list\n",
    "x = [4,3,1,2]\n",
    "y = sorted(x)\n",
    "print x,y"
   ]
  },
  {
   "cell_type": "code",
   "execution_count": 3,
   "metadata": {},
   "outputs": [
    {
     "data": {
      "text/plain": [
       "[4, 3, 2, 1]"
      ]
     },
     "execution_count": 3,
     "metadata": {},
     "output_type": "execute_result"
    }
   ],
   "source": [
    "#sort method sorts in place\n",
    "x.sort()\n",
    "x"
   ]
  },
  {
   "cell_type": "code",
   "execution_count": 4,
   "metadata": {},
   "outputs": [
    {
     "data": {
      "text/plain": [
       "[-4, 3, -2, 1]"
      ]
     },
     "execution_count": 4,
     "metadata": {},
     "output_type": "execute_result"
    }
   ],
   "source": [
    "#to sort in descending order use reverse=true\n",
    "# sort the list by absolute value from largest to smallest \n",
    "x = sorted([-4,1,-2,3],key=abs,reverse=True)\n",
    "x"
   ]
  },
  {
   "cell_type": "code",
   "execution_count": 5,
   "metadata": {},
   "outputs": [
    {
     "data": {
      "text/plain": [
       "defaultdict(int,\n",
       "            {'brown': 1,\n",
       "             'dog.': 1,\n",
       "             'fox': 1,\n",
       "             'jumps': 1,\n",
       "             'lazy': 1,\n",
       "             'over': 1,\n",
       "             'quick': 1,\n",
       "             'the': 2})"
      ]
     },
     "execution_count": 5,
     "metadata": {},
     "output_type": "execute_result"
    }
   ],
   "source": [
    "str = 'the quick brown fox jumps over the lazy dog.'\n",
    "words = str.split()\n",
    "from collections import defaultdict\n",
    "\n",
    "word_count = defaultdict(int)\n",
    "for word in words:\n",
    "    word_count[word]+=1\n",
    "    \n",
    "word_count"
   ]
  },
  {
   "cell_type": "code",
   "execution_count": 8,
   "metadata": {},
   "outputs": [
    {
     "data": {
      "text/plain": [
       "[('the', 2),\n",
       " ('dog.', 1),\n",
       " ('brown', 1),\n",
       " ('lazy', 1),\n",
       " ('over', 1),\n",
       " ('fox', 1),\n",
       " ('quick', 1),\n",
       " ('jumps', 1)]"
      ]
     },
     "execution_count": 8,
     "metadata": {},
     "output_type": "execute_result"
    }
   ],
   "source": [
    "sorted_list = sorted(word_count.items(),key=lambda (word,count): count, reverse=True)\n",
    "sorted_list"
   ]
  }
 ],
 "metadata": {
  "kernelspec": {
   "display_name": "Python 2",
   "language": "python",
   "name": "python2"
  },
  "language_info": {
   "codemirror_mode": {
    "name": "ipython",
    "version": 2
   },
   "file_extension": ".py",
   "mimetype": "text/x-python",
   "name": "python",
   "nbconvert_exporter": "python",
   "pygments_lexer": "ipython2",
   "version": "2.7.18"
  }
 },
 "nbformat": 4,
 "nbformat_minor": 2
}
